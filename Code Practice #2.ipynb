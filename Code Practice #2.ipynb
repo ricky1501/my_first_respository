{
 "cells": [
  {
   "cell_type": "markdown",
   "metadata": {},
   "source": [
    "# Code Practice #2 "
   ]
  },
  {
   "cell_type": "markdown",
   "metadata": {},
   "source": [
    "### 1. Does this code run without error? If so, waht does it produce? If not, explain why."
   ]
  },
  {
   "cell_type": "markdown",
   "metadata": {},
   "source": [
    "x = [1,2,3]\n",
    "y = 'bootcamp'\n",
    "z = x + y\n",
    "\n",
    "this code will produce an error since you can't concatenate a string to a list"
   ]
  },
  {
   "cell_type": "markdown",
   "metadata": {},
   "source": [
    "### 2. For the same x and y as previous question: What function tells us what type they are? What function tells us how many elements they contain?"
   ]
  },
  {
   "cell_type": "markdown",
   "metadata": {},
   "source": [
    "Function type() will tell us what type the value is\n",
    "Function len() will tell us how many elements the value contain"
   ]
  },
  {
   "cell_type": "markdown",
   "metadata": {},
   "source": [
    "### 3. What type is each expression? How can you tell?"
   ]
  },
  {
   "cell_type": "markdown",
   "metadata": {},
   "source": [
    "Integer: have no apostrophes or decimal and is a number\n",
    "\n",
    "Float: have decimal and is a number\n",
    "\n",
    "String: Apostrophes around the object\n",
    "\n",
    "Boolean: comparison \n",
    "\n",
    "List: have square brackets around\n",
    "\n",
    "Tuple: Similar to list but have a parenthesis\n",
    "\n",
    "Dictionary: Have pointy brackets and keys and values inside it\n",
    "\n",
    "2 -> integer\n",
    "\n",
    "'2' -> string\n",
    "\n",
    "2.0 -> float\n",
    "\n",
    "\"2.0\" -> string\n",
    "\n",
    "2>1 -> boolean\n",
    "\n",
    "'Itamar' > 'Chase'\n",
    "\n",
    "[1,2]\n",
    "\n",
    "(1,2)\n",
    "\n",
    "{1: 'one', 2: 'two'}"
   ]
  },
  {
   "cell_type": "markdown",
   "metadata": {},
   "source": [
    "### 4. What value does each of these comparisons have?"
   ]
  },
  {
   "cell_type": "markdown",
   "metadata": {},
   "source": [
    "1 >= 0 : True\n",
    "\n",
    "1 >= 1 : True\n",
    "\n",
    "1 > 1 : False\n",
    "\n",
    "1 == 1 : True\n",
    "\n",
    "1 == 1.0 : True\n",
    "\n",
    "'Spencer' == \"Spencer\" : True\n",
    "\n",
    "2******3 > 3******2 : False\n",
    "\n",
    "1 >= 0 or 1 <= 2 : True\n",
    "\n",
    "1 >= 0 and 1 <=2 : True"
   ]
  },
  {
   "cell_type": "markdown",
   "metadata": {},
   "source": [
    "### 5. Does this code run without error? If so, what does it produce? If not, how would you fix it?"
   ]
  },
  {
   "cell_type": "markdown",
   "metadata": {},
   "source": [
    "if 2 > 1\n",
    "\n",
    "    print('Yes, 2 is still greater than 1')\n",
    "\n",
    "this code has an error and wouldn't print. Even though the boolean leads to True but the code is missing a colon to complete the if statement syntax"
   ]
  },
  {
   "cell_type": "markdown",
   "metadata": {},
   "source": [
    "### 6. What is the result of running this code? Why?"
   ]
  },
  {
   "cell_type": "markdown",
   "metadata": {},
   "source": [
    "if True:\n",
    "\n",
    "    print('on the one hand')\n",
    "    \n",
    "else:\n",
    "\n",
    "    print('but on the other hand')\n",
    "\n",
    "+) The result of this code will print out 'on the one hand'\n",
    "\n",
    "+) if True is replaced with False then the function will print out 'but on the other hand'\n",
    "\n",
    "+) if we insert the word not after the first if line, then the function will print the opposite of what the user input in the boolean value"
   ]
  },
  {
   "cell_type": "markdown",
   "metadata": {},
   "source": [
    "### 7. What is the result of running this code?"
   ]
  },
  {
   "cell_type": "markdown",
   "metadata": {},
   "source": [
    "cond = True\n",
    "\n",
    "if cond:\n",
    "\n",
    "    x = \"Chase\"\n",
    "    \n",
    "else:\n",
    "\n",
    "    x = \"Dave\"\n",
    "    \n",
    "print(x)\n",
    "\n",
    "+) after these codes are ran te program will print out Chase"
   ]
  },
  {
   "cell_type": "markdown",
   "metadata": {},
   "source": [
    "### 8. Suppose we have two lists, x = [1,2,3,4] and y = ['x', 'y', 'z']. Adapt the code below to determine which has more elements:"
   ]
  },
  {
   "cell_type": "code",
   "execution_count": null,
   "metadata": {},
   "outputs": [],
   "source": [
    "x = [1,2,3,4]\n",
    "y = ['x', 'y', 'z']\n",
    "\n",
    "if len(x) > len(y):\n",
    "    print('x has more')\n",
    "else:\n",
    "    print('y has at least as many')"
   ]
  },
  {
   "cell_type": "markdown",
   "metadata": {},
   "source": [
    "### 9. Explain in words what slicing does\n",
    "\n",
    "Slicing a function takes a certain range of values specified by the indexes and extract it out"
   ]
  },
  {
   "cell_type": "markdown",
   "metadata": {},
   "source": [
    "### 10. How would you extract (\"slice\") the first element (the integer i) from the list x below? The last element? All but the last element?"
   ]
  },
  {
   "cell_type": "markdown",
   "metadata": {},
   "source": [
    "x = [1,2,3,4,5]\n",
    "\n",
    "x[0] - first element\n",
    "\n",
    "x[-1] - last element\n",
    "\n",
    "x[0:-1] - all but last element"
   ]
  },
  {
   "cell_type": "markdown",
   "metadata": {},
   "source": [
    "### 11. Use slicing to extract each word from\n",
    "\n",
    "sentence = \"This is a sentence; please slice it.\"\n",
    "\n",
    "sentence[0:4]\n",
    "\n",
    "sentence[5:7]\n",
    "\n",
    "sentence[8]\n",
    "\n",
    "sentence[10:18]\n",
    "\n",
    "sentence[20:26]\n",
    "\n",
    "sentence[27:32]\n",
    "\n",
    "sentence[33:35]"
   ]
  },
  {
   "cell_type": "markdown",
   "metadata": {},
   "source": [
    "### 12. Consider the list:\n",
    "\n",
    "x = [1, 2, \"a\", 'b', \"fast\", 'slow', 3, \"Raghu\", 'Liuren', 10]\n",
    "\n",
    "a) How would you slice out the first item? the last item?\n",
    "\n",
    "x[0]\n",
    "\n",
    "x[-1]\n",
    "\n",
    "b) How would you slice out the items from 'b' to 3 inclusive?\n",
    "\n",
    "x[3:7]"
   ]
  },
  {
   "cell_type": "markdown",
   "metadata": {},
   "source": [
    "### 13. Using the same list x, write a loop that prints every element on a new line"
   ]
  },
  {
   "cell_type": "code",
   "execution_count": null,
   "metadata": {},
   "outputs": [],
   "source": [
    "x = [1, 2, \"a\", 'b', \"fast\", 'slow', 3, \"Raghu\", 'Liuren', 10]\n",
    "\n",
    "for variable in x:\n",
    "    print(variable)"
   ]
  },
  {
   "cell_type": "markdown",
   "metadata": {},
   "source": [
    "### 14. *Challenging*. Using the same list x, write a loop that print every element of type str"
   ]
  },
  {
   "cell_type": "code",
   "execution_count": null,
   "metadata": {},
   "outputs": [],
   "source": [
    "for string_variable in x:\n",
    "    if type(string_variable) == str:\n",
    "        print(string_variable)"
   ]
  },
  {
   "cell_type": "markdown",
   "metadata": {},
   "source": [
    "### 15. Use the help function in Jupyter to find out what the range function does. How would you describe range(3,12,2)? Verify by converting to a list with list(range(3,12,2))\n",
    "\n",
    "start from 3 and take 2 steps until reaching a limit that is lesser than 12 : 3,5,7,9,11"
   ]
  },
  {
   "cell_type": "code",
   "execution_count": null,
   "metadata": {},
   "outputs": [],
   "source": [
    "list(range(3,12,2))"
   ]
  },
  {
   "cell_type": "markdown",
   "metadata": {},
   "source": [
    "### 16. *Challenging*. Write a loop that sums the integers from zero to thirty that are multiples of three: 3, 6, etc."
   ]
  },
  {
   "cell_type": "code",
   "execution_count": null,
   "metadata": {},
   "outputs": [],
   "source": [
    "counter = 0\n",
    "for number in range(3, 31, 3):\n",
    "    counter += number\n",
    "print(counter)"
   ]
  },
  {
   "cell_type": "markdown",
   "metadata": {},
   "source": [
    "### 17. Define a function pocket_change() that takes four integers as inputs (numbers of pennies, nickles, dimes, and quarters in your pocket) and returns a floating point number (their dollar value). Run your program with the input (1,2,3,4). Bonus (optional): Report the value with a dollar sign"
   ]
  },
  {
   "cell_type": "code",
   "execution_count": null,
   "metadata": {},
   "outputs": [],
   "source": [
    "def pocket_change(pennies, nickles, dimes, quarters):\n",
    "    pennies *= 0.01\n",
    "    nickles *= 0.05\n",
    "    dimes *= 0.10\n",
    "    quarters *= 0.25\n",
    "    \n",
    "    total_value = pennies + nickles + dimes + quarters\n",
    "    string_pocket_value = '$' + str(total_value)\n",
    "    \n",
    "    return string_pocket_value"
   ]
  },
  {
   "cell_type": "code",
   "execution_count": null,
   "metadata": {},
   "outputs": [],
   "source": [
    "pocket_change(1,2,3,4)"
   ]
  },
  {
   "cell_type": "markdown",
   "metadata": {},
   "source": [
    "### 18. *Challenging*. Write a function notsix() that takes a list of integers and returns a (shorter) list of those that do not begin with 6. Test it on the list [1234, 6783, 6, 4321, 9876]. *Hints*: YOu can create a blank list with x = []. You can append item to it with x.append(item)"
   ]
  },
  {
   "cell_type": "code",
   "execution_count": null,
   "metadata": {},
   "outputs": [],
   "source": [
    "def notsix(list_integer):\n",
    "    short_list = []\n",
    "    \n",
    "    for number in list_integer: \n",
    "        number_list = list(str(number))\n",
    "        if number_list[0] != '6':\n",
    "            short_list.append(number)\n",
    "    \n",
    "    return short_list\n",
    "        \n",
    "        "
   ]
  },
  {
   "cell_type": "code",
   "execution_count": null,
   "metadata": {},
   "outputs": [],
   "source": [
    "notsix([1234, 6783, 6, 4321, 9876])"
   ]
  },
  {
   "cell_type": "markdown",
   "metadata": {},
   "source": [
    "### 19. *Challenging*. Explain what this code does:\n",
    "\n",
    "old_list = [1234, 6783, 6, 4321, 9876]\n",
    "\n",
    "new_list = [x for x in old_list if str(x)[0] != \"6\"]\n",
    "\n",
    "These line of codes did the same thing as problem 18 for the function notsix(). It removed any number that has number 6 in the beginning of the number and append the other number to the variable new_list"
   ]
  },
  {
   "cell_type": "markdown",
   "metadata": {},
   "source": [
    "### 20. Consider the Python object\n",
    "\n",
    "z = {1: 'one', 2: 'two', 3: 'three'}\n",
    "\n",
    "##### a) What kind of object is z? What is its length?\n",
    "\n",
    "z is a dictionary with length 3\n",
    "\n",
    "##### b) Which components are keys? Which are values?\n",
    "\n",
    "compoenent 1 2 and 3 are keys and values are 'one' 'two' and 'three'\n",
    "\n",
    "##### c) How would I get the value assocaited with the key 2?\n",
    "\n",
    "z[2]\n",
    "\n",
    "##### d) Use Jupyter's help facilities to figure out what z.keys() does. Ditto z.values(). Try them to verify. \n",
    "\n",
    "z.keys() show all the keys in the dictionary z. \n",
    "\n",
    "z.values() show all the values in the dictionary z\n",
    "\n",
    "##### e) What does list(z.keys()) do?\n",
    "\n",
    "return dict_keys([1, 2, 3])\n",
    "\n",
    "return dict_values(['one', 'two', 'three'])\n",
    "\n",
    "##### f) What does list(z) do?\n",
    "\n",
    "print the list of keys in z"
   ]
  },
  {
   "cell_type": "markdown",
   "metadata": {},
   "source": [
    "### 21. Approximately how long did this assignment take you? Answer this by creating a .csv file and entering a time (in minutes) and posting it to your Github my_first_repository title time_for_practice2.csv\n",
    "\n",
    "1h and 15m"
   ]
  }
 ],
 "metadata": {
  "kernelspec": {
   "display_name": "Python 3",
   "language": "python",
   "name": "python3"
  },
  "language_info": {
   "codemirror_mode": {
    "name": "ipython",
    "version": 3
   },
   "file_extension": ".py",
   "mimetype": "text/x-python",
   "name": "python",
   "nbconvert_exporter": "python",
   "pygments_lexer": "ipython3",
   "version": "3.6.5"
  }
 },
 "nbformat": 4,
 "nbformat_minor": 2
}
