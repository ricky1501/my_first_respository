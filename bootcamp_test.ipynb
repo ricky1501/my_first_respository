{
 "cells": [
  {
   "cell_type": "code",
   "execution_count": 1,
   "metadata": {},
   "outputs": [
    {
     "name": "stdout",
     "output_type": "stream",
     "text": [
      "\n",
      "What version of Python?\n",
      "3.6.5 |Anaconda, Inc.| (default, Apr 26 2018, 08:42:37) \n",
      "[GCC 4.2.1 Compatible Clang 4.0.1 (tags/RELEASE_401/final)]\n",
      "\n",
      "Congratulations, you have Python 3!\n"
     ]
    }
   ],
   "source": [
    "import sys #import system module (don't ask)\n",
    "\n",
    "print('\\nWhat version of Python?\\n', sys.version, '\\n', sep='')\n",
    "\n",
    "if float(sys.version_info[0]) < 3.0:\n",
    "    raise Exception('Program halted, old version of Python. \\n',\n",
    "                    'Sorry, you need to install Anaconda again.')\n",
    "else:\n",
    "    print('Congratulations, you have Python 3!')"
   ]
  }
 ],
 "metadata": {
  "kernelspec": {
   "display_name": "Python 3",
   "language": "python",
   "name": "python3"
  },
  "language_info": {
   "codemirror_mode": {
    "name": "ipython",
    "version": 3
   },
   "file_extension": ".py",
   "mimetype": "text/x-python",
   "name": "python",
   "nbconvert_exporter": "python",
   "pygments_lexer": "ipython3",
   "version": "3.6.5"
  }
 },
 "nbformat": 4,
 "nbformat_minor": 2
}
