{
 "cells": [
  {
   "cell_type": "markdown",
   "metadata": {},
   "source": [
    "# Code Practice #1"
   ]
  },
  {
   "cell_type": "markdown",
   "metadata": {},
   "source": [
    "### 1. Describe and explain what each of these expressions produces in basic Python:"
   ]
  },
  {
   "cell_type": "code",
   "execution_count": null,
   "metadata": {},
   "outputs": [],
   "source": [
    "2+5 # addition - produces an integer\n",
    "\n",
    "2 + 5 # same as above since space doesn't account in Python\n",
    "\n",
    "2*5 # multiplication - produces an integer\n",
    "\n",
    "2/5 # Divison with float - producers a float\n",
    "\n",
    "2**5 # Exponentiation"
   ]
  },
  {
   "cell_type": "markdown",
   "metadata": {},
   "source": [
    "### 2. What is the value of x after running these statements in order? Why? "
   ]
  },
  {
   "cell_type": "code",
   "execution_count": null,
   "metadata": {},
   "outputs": [],
   "source": [
    "x = 7 # Assign x a varible integer\n",
    "\n",
    "x = x + 3 # Assign x a new variable by using the x = 7 + 3"
   ]
  },
  {
   "cell_type": "markdown",
   "metadata": {},
   "source": [
    "### 3. What is the value of y after running these statements in order? Of x? Why?"
   ]
  },
  {
   "cell_type": "code",
   "execution_count": null,
   "metadata": {},
   "outputs": [],
   "source": [
    "x = 3 # Assign x to variable integer which is 3\n",
    "\n",
    "y = x # Assign y = x so y is now 3\n",
    "\n",
    "x = 10 # Reassigned x = 10 => After running x = 10 and y = 3"
   ]
  },
  {
   "cell_type": "markdown",
   "metadata": {},
   "source": [
    "### 4. Does this code run without error? If so, what does it produce? If not, explain why"
   ]
  },
  {
   "cell_type": "code",
   "execution_count": null,
   "metadata": {},
   "outputs": [],
   "source": [
    "x = 3 # Assign x to variable 3\n",
    "\n",
    "x = x/2 # Reassign x with x = 3 divided by 2 -> 1.5 float\n",
    "\n",
    "y = 'abc' # Assign y to variable string 'abc'\n",
    "\n",
    "z = y + y # Assign z to the concatenation of y -> z = 'abcabc'\n",
    "\n",
    "print(x,z) # -> 1.5 abcabc"
   ]
  },
  {
   "cell_type": "markdown",
   "metadata": {},
   "source": [
    "### 5. Does this code run without error? If so, what does it produce? If not, explain why"
   ]
  },
  {
   "cell_type": "code",
   "execution_count": null,
   "metadata": {},
   "outputs": [],
   "source": [
    "x = 3 # Assign x to variable 3\n",
    "\n",
    "x = x/2 # Reassign x with x = 3 divided by 2 -> 1.5 float\n",
    "\n",
    "y = 'abc' # Assign y to variable string 'abc'\n",
    "\n",
    "z = x + y # Assign z to variable x = 1.5 + y = 'abc' \n",
    "\n",
    "          # -> TypeError since two variables are different type\n",
    "          \n",
    "print(x,z)"
   ]
  },
  {
   "cell_type": "markdown",
   "metadata": {},
   "source": [
    "### 6. Does this code run without error? If so, what does it produce? If not, explain why"
   ]
  },
  {
   "cell_type": "code",
   "execution_count": null,
   "metadata": {},
   "outputs": [],
   "source": [
    "x = 3 # Assign x to variable 3\n",
    "\n",
    "y = 24 # Assign y to variable 24\n",
    "\n",
    "z = y/x # Assign z to division of y = 24 / x =3 -> z = float 8.0\n",
    "\n",
    "print(x, y, z, sep = ' | ') # Produces 3 | 24 | 8.0"
   ]
  },
  {
   "cell_type": "markdown",
   "metadata": {},
   "source": [
    "### 7. Does this code run without error? If so, what does it produce? If not, explain why"
   ]
  },
  {
   "cell_type": "code",
   "execution_count": null,
   "metadata": {},
   "outputs": [],
   "source": [
    "x = 3 # Assign x to variable 3\n",
    "\n",
    "y = '24' # Assign y to variable string 24\n",
    "\n",
    "z = y/x # Assign z to division of y = '24' / x =3 \n",
    "\n",
    "-> TypeError: string/integer\n",
    "\n",
    "print(x,z)"
   ]
  },
  {
   "cell_type": "markdown",
   "metadata": {},
   "source": [
    "### 8. Does this code run without error? If so, what does it produce? If not, explain why"
   ]
  },
  {
   "cell_type": "code",
   "execution_count": null,
   "metadata": {},
   "outputs": [],
   "source": [
    "x = \"I am a #string\" # Whoa, a string!\n",
    "\n",
    "This code has no error but it won't produce anything, just assign x = string"
   ]
  },
  {
   "cell_type": "markdown",
   "metadata": {},
   "source": [
    "### 9. Does this code run with error? If so, what does it produce? If not, explain why."
   ]
  },
  {
   "cell_type": "code",
   "execution_count": null,
   "metadata": {},
   "outputs": [],
   "source": [
    "x = [1, 2, 3] # Assign a list as a variable to x\n",
    "\n",
    "y = [42, 43] # Assign a list as a variable to y \n",
    "\n",
    "z = x + y # Result into a new list [1,2,3,42,43]"
   ]
  },
  {
   "cell_type": "markdown",
   "metadata": {},
   "source": [
    "### 11. What types are"
   ]
  },
  {
   "cell_type": "code",
   "execution_count": null,
   "metadata": {},
   "outputs": [],
   "source": [
    "x1 = 12 # integer\n",
    "\n",
    "x2 = 12.0 # float\n",
    "\n",
    "x3 = '12.0' # string\n",
    "\n",
    "x4 = [12] # list\n",
    "\n",
    "x5 = [12, 12.0, '12.0'] # list"
   ]
  },
  {
   "cell_type": "markdown",
   "metadata": {},
   "source": [
    "### 12. Explain the result of each line:"
   ]
  },
  {
   "cell_type": "code",
   "execution_count": null,
   "metadata": {},
   "outputs": [],
   "source": [
    "type(42) # integer\n",
    "\n",
    "type(42.0) # float\n",
    "\n",
    "type('42.0') # string\n",
    "\n",
    "type(\"\"\"42.0\"\"\") # string\n",
    "\n",
    "type([1, 2]) # list\n",
    "\n",
    "type([1] + [2]) # list\n",
    "\n",
    "type(1 + 2) # integer\n",
    "\n",
    "type(print) # built in function"
   ]
  },
  {
   "cell_type": "markdown",
   "metadata": {},
   "source": [
    "### 13. Describe and explain the result of this statement:"
   ]
  },
  {
   "cell_type": "code",
   "execution_count": null,
   "metadata": {},
   "outputs": [],
   "source": [
    "type(float(str(int('1234')))) \n",
    "\n",
    "#the program is converting the string '1234' into first an integer and then a string -> float. and then at last defining what type the value is -> float"
   ]
  },
  {
   "cell_type": "markdown",
   "metadata": {},
   "source": [
    "### 14. Describe and explain the result of this statement:"
   ]
  },
  {
   "cell_type": "code",
   "execution_count": null,
   "metadata": {},
   "outputs": [],
   "source": [
    "type(int(float('12.34')))\n",
    "\n",
    "#the program in converting an integer into a float and then converting it into an integer and then defining what the type of the value it is -> integer"
   ]
  },
  {
   "cell_type": "markdown",
   "metadata": {},
   "source": [
    "### 15. Explain each line:"
   ]
  },
  {
   "cell_type": "code",
   "execution_count": null,
   "metadata": {},
   "outputs": [],
   "source": [
    "len([1234]) #length of the list -> 1\n",
    "\n",
    "len(\"1234\") # length of the string -> 4\n",
    "\n",
    "len(1234) # Error because number has no length "
   ]
  },
  {
   "cell_type": "markdown",
   "metadata": {},
   "source": [
    "### 16. What are the type and length of x = []"
   ]
  },
  {
   "cell_type": "code",
   "execution_count": null,
   "metadata": {},
   "outputs": [],
   "source": [
    "x = [] # type is list\n",
    "       # length is 0"
   ]
  },
  {
   "cell_type": "markdown",
   "metadata": {},
   "source": [
    "### 17. Convert the string x = 'abcde' to a list. What does it look like?"
   ]
  },
  {
   "cell_type": "code",
   "execution_count": null,
   "metadata": {},
   "outputs": [],
   "source": [
    "x = 'abcde'\n",
    "\n",
    "list(x) # ['a', 'b', 'c', 'd', 'e']"
   ]
  },
  {
   "cell_type": "markdown",
   "metadata": {},
   "source": [
    "### 18. Consider the integer x = 1234"
   ]
  },
  {
   "cell_type": "code",
   "execution_count": null,
   "metadata": {},
   "outputs": [],
   "source": [
    "x = 1234\n",
    "\n",
    "float_x = float(x)\n",
    "\n",
    "print(float_x)"
   ]
  },
  {
   "cell_type": "code",
   "execution_count": null,
   "metadata": {},
   "outputs": [],
   "source": [
    "string_x = str(x)\n",
    "\n",
    "print(string_x)"
   ]
  },
  {
   "cell_type": "code",
   "execution_count": null,
   "metadata": {},
   "outputs": [],
   "source": [
    "number_list = []\n",
    "for number in str(x):\n",
    "    number_list += number\n",
    "\n",
    "print(number_list)"
   ]
  },
  {
   "cell_type": "markdown",
   "metadata": {},
   "source": [
    "### 19. How would you convert x to \"title case\" (first letter of each word capitalized)? Hint: Use tab completion to find an appropriate method."
   ]
  },
  {
   "cell_type": "code",
   "execution_count": null,
   "metadata": {},
   "outputs": [],
   "source": [
    "x = \"Luke, i am your father\"\n",
    "\n",
    "new_sentence = ''\n",
    "\n",
    "for word in x.split(' '):\n",
    "\n",
    "    new_sentence += word.capitalize() + \" \"\n",
    "\n",
    "print(new_sentence)"
   ]
  },
  {
   "cell_type": "markdown",
   "metadata": {},
   "source": [
    "### 20. Challenging. Consider the string"
   ]
  },
  {
   "cell_type": "code",
   "execution_count": null,
   "metadata": {},
   "outputs": [],
   "source": [
    "x = \"How many characters and words are in this string?\"\n",
    "\n",
    "len(x) # 49 characters"
   ]
  },
  {
   "cell_type": "code",
   "execution_count": null,
   "metadata": {},
   "outputs": [],
   "source": [
    "list(x)"
   ]
  },
  {
   "cell_type": "code",
   "execution_count": null,
   "metadata": {},
   "outputs": [],
   "source": [
    "x.split(' ') # convert x into a list of individual words"
   ]
  },
  {
   "cell_type": "code",
   "execution_count": null,
   "metadata": {},
   "outputs": [],
   "source": [
    "len(x.split(' ')) # 9 words"
   ]
  },
  {
   "cell_type": "markdown",
   "metadata": {},
   "source": [
    "### 21. Approximately how long did this assignment take you? Answer this by creating a .csv file and entering the time (in minutes) and posting it to your Github my_first_repository titled time_for_practice1_csv"
   ]
  },
  {
   "cell_type": "markdown",
   "metadata": {},
   "source": [
    "45 minutes"
   ]
  }
 ],
 "metadata": {
  "kernelspec": {
   "display_name": "Python 3",
   "language": "python",
   "name": "python3"
  },
  "language_info": {
   "codemirror_mode": {
    "name": "ipython",
    "version": 3
   },
   "file_extension": ".py",
   "mimetype": "text/x-python",
   "name": "python",
   "nbconvert_exporter": "python",
   "pygments_lexer": "ipython3",
   "version": "3.6.5"
  }
 },
 "nbformat": 4,
 "nbformat_minor": 2
}
